{
 "cells": [
  {
   "cell_type": "markdown",
   "id": "0",
   "metadata": {},
   "source": [
    "# LangChain PDF Data Ingestion Demo\n",
    "\n",
    "This notebook demonstrates how to ingest PDF documents using LangChain's document loaders."
   ]
  },
  {
   "cell_type": "code",
   "execution_count": null,
   "id": "1",
   "metadata": {},
   "outputs": [],
   "source": [
    "# If running in a fresh environment, install required packages\n",
    "# !pip install langchain pypdf python-dotenv"
   ]
  },
  {
   "cell_type": "code",
   "execution_count": null,
   "id": "2",
   "metadata": {},
   "outputs": [],
   "source": [
    "from dotenv import load_dotenv\n",
    "load_dotenv()\n",
    "\n",
    "from langchain.document_loaders import PyPDFLoader\n",
    "from langchain.text_splitter import CharacterTextSplitter"
   ]
  },
  {
   "cell_type": "code",
   "execution_count": null,
   "id": "3",
   "metadata": {},
   "outputs": [],
   "source": [
    "# Load a sample PDF file (replace with your own PDF path if needed)\n",
    "pdf_path = \"./temp/sample.pdf\"\n",
    "\n",
    "# If you don't have a sample PDF, you can create one using reportlab or manually place a PDF in the project directory.\n",
    "# For demonstration, this cell assumes sample.pdf exists in temp folder.\n",
    "\n",
    "loader = PyPDFLoader(pdf_path)\n",
    "documents = loader.load()\n",
    "\n",
    "print(f\"Loaded {len(documents)} pages from PDF.\")"
   ]
  },
  {
   "cell_type": "code",
   "execution_count": null,
   "id": "4",
   "metadata": {},
   "outputs": [],
   "source": [
    "# Extract and print text from each page\n",
    "for i, doc in enumerate(documents):\n",
    "    print(f\"--- Page {i+1} ---\")\n",
    "    print(doc.page_content[:500])  # Print first 500 characters for brevity\n",
    "    print()"
   ]
  },
  {
   "cell_type": "code",
   "execution_count": null,
   "id": "5",
   "metadata": {},
   "outputs": [],
   "source": [
    "# Chunk PDF text for processing\n",
    "text_splitter = CharacterTextSplitter(chunk_size=1000, chunk_overlap=100)\n",
    "chunks = []\n",
    "for doc in documents:\n",
    "    chunks.extend(text_splitter.split_text(doc.page_content))\n",
    "\n",
    "print(f\"Total chunks created: {len(chunks)}\")\n",
    "print(\"First chunk:\")\n",
    "print(chunks[0] if chunks else \"No chunks found.\")"
   ]
  },
  {
   "cell_type": "markdown",
   "id": "6",
   "metadata": {},
   "source": [
    "## Next Steps\n",
    "\n",
    "You can now use these PDF text chunks for embedding, querying, or other downstream tasks with LangChain tools."
   ]
  }
 ],
 "metadata": {
  "kernelspec": {
   "display_name": "venv",
   "language": "python",
   "name": "python3"
  },
  "language_info": {
   "codemirror_mode": {
    "name": "ipython",
    "version": 3
   },
   "file_extension": ".py",
   "mimetype": "text/x-python",
   "name": "python",
   "nbconvert_exporter": "python",
   "pygments_lexer": "ipython3",
   "version": "3.11.0"
  }
 },
 "nbformat": 4,
 "nbformat_minor": 5
}
