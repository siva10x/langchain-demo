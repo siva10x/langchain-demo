{
 "cells": [
  {
   "cell_type": "markdown",
   "id": "5ceb4ca8",
   "metadata": {},
   "source": [
    "# Hello World with LangChain and OpenAI\n",
    "\n",
    "This notebook demonstrates a simple example of using LangChain and OpenAI to answer a question.\n",
    "\n",
    "## Setup Instructions\n",
    "\n",
    "- Ensure you have a `.env` file in your project folder with your OpenAI API key:\n",
    "\n",
    "  ```\n",
    "\n",
    "  OPENAI_API_KEY=your_openai_api_key_here\n",
    "\n",
    "  ```\n",
    "\n",
    "- Install dependencies from `requirements.txt`:\n",
    "\n",
    "  ```\n",
    "\n",
    "  pip install -r requirements.txt\n",
    "\n",
    "  ```\n",
    "\n",
    "- Run the notebook and follow the prompts."
   ]
  },
  {
   "cell_type": "code",
   "execution_count": null,
   "id": "4d039615",
   "metadata": {},
   "outputs": [],
   "source": [
    "from dotenv import dotenv_values\n"
   ]
  },
  {
   "cell_type": "markdown",
   "id": "29d60ee3",
   "metadata": {},
   "source": [
    "## Load OpenAI API Key\n",
    "\n",
    "The following code loads your OpenAI API key from the `.env` file using `dotenv_values`."
   ]
  },
  {
   "cell_type": "code",
   "execution_count": null,
   "id": "7f104860",
   "metadata": {},
   "outputs": [],
   "source": [
    "config = dotenv_values('.env')\n",
    "\n",
    "openai_api_key = config.get('OPENAI_API_KEY')"
   ]
  },
  {
   "cell_type": "markdown",
   "id": "fef9b499",
   "metadata": {},
   "source": [
    "## Set Up the Language Model\n",
    "\n",
    "This code sets up the LangChain `ChatOpenAI` model using your API key and chosen parameters."
   ]
  },
  {
   "cell_type": "code",
   "execution_count": null,
   "id": "b628352e",
   "metadata": {},
   "outputs": [],
   "source": [
    "from langchain_openai import ChatOpenAI\n",
    "\n",
    "llm = ChatOpenAI(\n",
    "    api_key=openai_api_key,  # your OpenAI API key\n",
    "    model=\"gpt-4.1-nano\",\n",
    "    temperature=0.7\n",
    ")"
   ]
  },
  {
   "cell_type": "markdown",
   "id": "5a2bb99c",
   "metadata": {},
   "source": [
    "## Ask a Question and Get an Answer\n",
    "\n",
    "The following code sends a question to the model and prints the response."
   ]
  },
  {
   "cell_type": "code",
   "execution_count": null,
   "id": "58f5519c",
   "metadata": {},
   "outputs": [],
   "source": [
    "from langchain_core.messages import HumanMessage, SystemMessage\n",
    "\n",
    "messages = [\n",
    "    SystemMessage(content=\"You are a helpful AI assistant.\"),\n",
    "    HumanMessage(content=\"What is the capital of France?\")\n",
    "]\n",
    "\n",
    "response = llm.invoke(messages)\n",
    "print(response.content)"
   ]
  }
 ],
 "metadata": {
  "kernelspec": {
   "display_name": "venv",
   "language": "python",
   "name": "python3"
  },
  "language_info": {
   "codemirror_mode": {
    "name": "ipython",
    "version": 3
   },
   "file_extension": ".py",
   "mimetype": "text/x-python",
   "name": "python",
   "nbconvert_exporter": "python",
   "pygments_lexer": "ipython3",
   "version": "3.11.0"
  }
 },
 "nbformat": 4,
 "nbformat_minor": 5
}
